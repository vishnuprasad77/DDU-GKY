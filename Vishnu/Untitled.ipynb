{
 "cells": [
  {
   "cell_type": "code",
   "execution_count": 22,
   "id": "e51e75ad",
   "metadata": {},
   "outputs": [
    {
     "name": "stdout",
     "output_type": "stream",
     "text": [
      "enter the limit6\n",
      "{1: 1, 2: 4, 3: 9, 4: 16, 5: 25, 6: 36}\n"
     ]
    }
   ],
   "source": [
    "a=int(input('enter the limit'))\n",
    "dict1={}\n",
    "for i in range(1,a+1):\n",
    "    j=i*i\n",
    "    dict1[i]=j\n",
    "    \n",
    "print(dict1)\n"
   ]
  },
  {
   "cell_type": "code",
   "execution_count": 32,
   "id": "6fbae38a",
   "metadata": {},
   "outputs": [
    {
     "name": "stdout",
     "output_type": "stream",
     "text": [
      "{1: 1, 2: 2, 3: 3, 4: 4}\n"
     ]
    }
   ],
   "source": [
    "b={1:1,2:2}\n",
    "c={3:3,4:4}\n",
    "b.update(c)\n",
    "print(b)"
   ]
  },
  {
   "cell_type": "code",
   "execution_count": 35,
   "id": "083660c4",
   "metadata": {},
   "outputs": [
    {
     "name": "stdout",
     "output_type": "stream",
     "text": [
      "28\n"
     ]
    }
   ],
   "source": [
    "dict2={1:2,2:3,3:4,4:5,5:6,6:7,7:8}\n",
    "print(sum(dict2))"
   ]
  },
  {
   "cell_type": "code",
   "execution_count": 37,
   "id": "ebca7b2a",
   "metadata": {},
   "outputs": [
    {
     "name": "stdout",
     "output_type": "stream",
     "text": [
      "35\n"
     ]
    }
   ],
   "source": [
    "dict2={1:2,2:3,3:4,4:5,5:6,6:7,7:8}\n",
    "print(sum(dict2.values()))"
   ]
  },
  {
   "cell_type": "code",
   "execution_count": 42,
   "id": "1353a364",
   "metadata": {},
   "outputs": [
    {
     "name": "stdout",
     "output_type": "stream",
     "text": [
      "5040\n",
      "values  40320\n"
     ]
    }
   ],
   "source": [
    "dict2={1:2,2:3,3:4,4:5,5:6,6:7,7:8}\n",
    "mul=1\n",
    "for i in dict2:\n",
    "    mul=mul*i\n",
    "print(mul)\n",
    "mul=1\n",
    "for i in dict2.values():\n",
    "    mul=mul*i\n",
    "print('values ',mul)"
   ]
  },
  {
   "cell_type": "code",
   "execution_count": 52,
   "id": "b2aff3a4",
   "metadata": {},
   "outputs": [
    {
     "data": {
      "text/plain": [
       "{'b': 2, 'c': 3}"
      ]
     },
     "execution_count": 52,
     "metadata": {},
     "output_type": "execute_result"
    }
   ],
   "source": [
    "dict3={'a':1,'b':2,'c':3}\n",
    "del dict3['a']\n",
    "dict3"
   ]
  },
  {
   "cell_type": "code",
   "execution_count": 7,
   "id": "cf32ad99",
   "metadata": {},
   "outputs": [
    {
     "name": "stdout",
     "output_type": "stream",
     "text": [
      "(1, 2)\n",
      "(2, 3)\n",
      "(3, 4)\n",
      "(4, 5)\n",
      "(5, 6)\n",
      "(6, 7)\n",
      "(7, 8)\n"
     ]
    }
   ],
   "source": [
    "dict2={1:2,2:3,3:4,4:5,5:6,6:7,7:8}\n",
    "for i in dict2.items():\n",
    "    print(i)"
   ]
  },
  {
   "cell_type": "code",
   "execution_count": 65,
   "id": "14925fb9",
   "metadata": {},
   "outputs": [
    {
     "name": "stdout",
     "output_type": "stream",
     "text": [
      "15\n",
      "25\n",
      "35\n"
     ]
    }
   ],
   "source": [
    "d1={'x':[11,12,13,14,15,16,17,18,19]}\n",
    "d2={'y':[21,22,23,24,25,26,27,28,29]}\n",
    "d3={'z':[31,32,33,34,35,36,37,38,39]}\n",
    "\n",
    "def func(f):\n",
    "    e=0\n",
    "    for i in f.values():\n",
    "        for j in i:\n",
    "            e=e+1\n",
    "            if(e==5):\n",
    "                print(j)\n",
    "func(d1)\n",
    "func(d2)\n",
    "func(d3)"
   ]
  },
  {
   "cell_type": "code",
   "execution_count": 4,
   "id": "6a6d4313",
   "metadata": {},
   "outputs": [
    {
     "name": "stdout",
     "output_type": "stream",
     "text": [
      "15\n",
      "25\n",
      "35\n"
     ]
    }
   ],
   "source": [
    "d1={'x':[11,12,13,14,15,16,17,18,19],\n",
    "    'y':[21,22,23,24,25,26,27,28,29],\n",
    "    'z':[31,32,33,34,35,36,37,38,39]}\n",
    "\n",
    "for i in d1:\n",
    "    print(d1[i][4])"
   ]
  },
  {
   "cell_type": "code",
   "execution_count": null,
   "id": "30d7e6ee",
   "metadata": {},
   "outputs": [],
   "source": []
  }
 ],
 "metadata": {
  "kernelspec": {
   "display_name": "Python 3 (ipykernel)",
   "language": "python",
   "name": "python3"
  },
  "language_info": {
   "codemirror_mode": {
    "name": "ipython",
    "version": 3
   },
   "file_extension": ".py",
   "mimetype": "text/x-python",
   "name": "python",
   "nbconvert_exporter": "python",
   "pygments_lexer": "ipython3",
   "version": "3.9.13"
  }
 },
 "nbformat": 4,
 "nbformat_minor": 5
}
