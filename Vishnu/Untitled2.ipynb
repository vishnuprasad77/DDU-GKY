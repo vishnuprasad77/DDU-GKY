{
 "cells": [
  {
   "cell_type": "code",
   "execution_count": 1,
   "id": "3d215ea7",
   "metadata": {},
   "outputs": [
    {
     "data": {
      "text/plain": [
       "'AuKellylt'"
      ]
     },
     "execution_count": 1,
     "metadata": {},
     "output_type": "execute_result"
    }
   ],
   "source": [
    "s1='Ault'\n",
    "s2='Kelly'\n",
    "s3=s1[:2]+s2+s1[2:4]\n",
    "s3"
   ]
  },
  {
   "cell_type": "code",
   "execution_count": 17,
   "id": "34e92c9e",
   "metadata": {},
   "outputs": [
    {
     "name": "stdout",
     "output_type": "stream",
     "text": [
      "ytnPHO\n"
     ]
    }
   ],
   "source": [
    "str1='PytHOn'\n",
    "a=''\n",
    "b=''\n",
    "for i in str1:\n",
    "    if i.islower():\n",
    "        a=a+i\n",
    "    else:\n",
    "        b=b+i\n",
    "print(a+b)"
   ]
  },
  {
   "cell_type": "code",
   "execution_count": 21,
   "id": "e50c9347",
   "metadata": {},
   "outputs": [
    {
     "name": "stdout",
     "output_type": "stream",
     "text": [
      "Digits =  3 \n",
      "Chars =  8 \n",
      "Symbol =  4\n"
     ]
    }
   ],
   "source": [
    "str1='P@#yn26at^&i5ve'\n",
    "a=''\n",
    "b=''\n",
    "c=''\n",
    "for i in str1:\n",
    "    if i.isdigit():\n",
    "        a=a+i\n",
    "    elif i.isalpha():\n",
    "        b=b+i\n",
    "    else:\n",
    "        c=c+i\n",
    "print('Digits = ',len(a),'\\nChars = ',len(b),'\\nSymbol = ',len(c))"
   ]
  },
  {
   "cell_type": "code",
   "execution_count": 26,
   "id": "1ca705bc",
   "metadata": {},
   "outputs": [
    {
     "name": "stdout",
     "output_type": "stream",
     "text": [
      "yes\n",
      "yes\n",
      "yes\n",
      "yes\n"
     ]
    }
   ],
   "source": [
    "s1='ault'\n",
    "s2='kautelly'\n",
    "for i in s1:\n",
    "    if i in s2:\n",
    "        print('yes')"
   ]
  },
  {
   "cell_type": "code",
   "execution_count": null,
   "id": "8a1faae5",
   "metadata": {},
   "outputs": [],
   "source": []
  }
 ],
 "metadata": {
  "kernelspec": {
   "display_name": "Python 3 (ipykernel)",
   "language": "python",
   "name": "python3"
  },
  "language_info": {
   "codemirror_mode": {
    "name": "ipython",
    "version": 3
   },
   "file_extension": ".py",
   "mimetype": "text/x-python",
   "name": "python",
   "nbconvert_exporter": "python",
   "pygments_lexer": "ipython3",
   "version": "3.9.13"
  }
 },
 "nbformat": 4,
 "nbformat_minor": 5
}
